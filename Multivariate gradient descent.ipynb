{
 "cells": [
  {
   "cell_type": "code",
   "execution_count": 1,
   "metadata": {},
   "outputs": [],
   "source": [
    "import numpy as np\n",
    "import sys"
   ]
  },
  {
   "cell_type": "code",
   "execution_count": 2,
   "metadata": {},
   "outputs": [
    {
     "data": {
      "text/plain": [
       "1.7976931348623157e+308"
      ]
     },
     "execution_count": 2,
     "metadata": {},
     "output_type": "execute_result"
    }
   ],
   "source": [
    "sys.float_info.max"
   ]
  },
  {
   "cell_type": "code",
   "execution_count": 3,
   "metadata": {},
   "outputs": [
    {
     "data": {
      "text/plain": [
       "2.2250738585072014e-308"
      ]
     },
     "execution_count": 3,
     "metadata": {},
     "output_type": "execute_result"
    }
   ],
   "source": [
    "sys.float_info.min"
   ]
  },
  {
   "cell_type": "code",
   "execution_count": 2,
   "metadata": {},
   "outputs": [
    {
     "name": "stdout",
     "output_type": "stream",
     "text": [
      "The function x**2 + 4*x + y**2 - 6*y - 7 converges to a minimum\n",
      "Number of iterations: 18\n",
      "theta (x0) = -1.99999951896366\n",
      "theta1 (y0) = 3.00000013743895\n"
     ]
    }
   ],
   "source": [
    "from sympy import *\n",
    "\n",
    "x = Symbol('x')\n",
    "y = Symbol('y')\n",
    "z = Symbol('z')\n",
    "\n",
    "f = x**2 + y**2 + 4*x - 6*y -7\n",
    "\n",
    "# First partial derivative with respect to x\n",
    "fpx = f.diff(x)\n",
    "\n",
    "# First partial derivative with respect to y\n",
    "fpy = f.diff(y)\n",
    "\n",
    "# Gradient\n",
    "grad = [fpx,fpy]\n",
    "\n",
    "# Data\n",
    "theta = 5  #x\n",
    "theta1 = 5 #y\n",
    "alpha = 0.3\n",
    "iterations = 0\n",
    "check = 0\n",
    "precision = 1/1000000\n",
    "printData = True\n",
    "maxIterations = 1000\n",
    "\n",
    "while True:\n",
    "    temptheta = theta - alpha*N(fpx.subs(x,theta).subs(y,theta1)).evalf()\n",
    "    temptheta1 = theta1 - alpha*N(fpy.subs(y,theta1)).subs(x,theta).evalf()\n",
    "\n",
    "    #If the number of iterations goes up too much, maybe theta (and/or theta1)\n",
    "    #is diverging! Let's stop the loop and try to understand.\n",
    "    iterations += 1\n",
    "    if iterations > maxIterations:\n",
    "        print(\"Too many iterations. Adjust alpha and make sure that the function is convex!\")\n",
    "        printData = False\n",
    "        break\n",
    "\n",
    "    #If the value of theta changes less of a certain amount, our goal is met.\n",
    "    if abs(temptheta-theta) < precision and abs(temptheta1-theta1) < precision:\n",
    "        break\n",
    "\n",
    "    #Simultaneous update\n",
    "    theta = temptheta\n",
    "    theta1 = temptheta1\n",
    "\n",
    "if printData:\n",
    "    print(\"The function \"+str(f)+\" converges to a minimum\")\n",
    "    print(\"Number of iterations:\",iterations,sep=\" \")\n",
    "    print(\"theta (x0) =\",temptheta,sep=\" \")\n",
    "    print(\"theta1 (y0) =\",temptheta1,sep=\" \")"
   ]
  },
  {
   "cell_type": "code",
   "execution_count": 18,
   "metadata": {},
   "outputs": [
    {
     "name": "stdout",
     "output_type": "stream",
     "text": [
      "The function <function f at 0x000002B874275B70> converges to a minimum\n",
      "Number of iterations: 1\n",
      "theta (x0) = 0.800000000000000\n",
      "theta1 (y0) = 3.80000000000000\n",
      "value of f = -11.5200000000000\n",
      "The function <function f at 0x000002B874275B70> converges to a minimum\n",
      "Number of iterations: 2\n",
      "theta (x0) = -0.880000000000000\n",
      "theta1 (y0) = 3.32000000000000\n",
      "value of f = -18.6432000000000\n",
      "The function <function f at 0x000002B874275B70> converges to a minimum\n",
      "Number of iterations: 3\n",
      "theta (x0) = -1.55200000000000\n",
      "theta1 (y0) = 3.12800000000000\n",
      "value of f = -19.7829120000000\n",
      "The function <function f at 0x000002B874275B70> converges to a minimum\n",
      "Number of iterations: 4\n",
      "theta (x0) = -1.82080000000000\n",
      "theta1 (y0) = 3.05120000000000\n",
      "value of f = -19.9652659200000\n"
     ]
    }
   ],
   "source": [
    "from sympy import *\n",
    "\n",
    "x = Symbol('x')\n",
    "y = Symbol('y')\n",
    "z = Symbol('z')\n",
    "\n",
    "f = x**2 + y**2 + 4*x - 6*y -7\n",
    "\n",
    "# First partial derivative with respect to x\n",
    "fpx = f.diff(x)\n",
    "\n",
    "# First partial derivative with respect to y\n",
    "fpy = f.diff(y)\n",
    "\n",
    "# Gradient\n",
    "grad = [fpx,fpy]\n",
    "\n",
    "def f(x, y):\n",
    "    return  x**2 + y**2 + 4*x - 6*y -7 \n",
    "\n",
    "# Data\n",
    "theta = 5  #x\n",
    "theta1 = 5 #y\n",
    "alpha = 0.3\n",
    "iterations = 0\n",
    "check = 0\n",
    "precision = 1/1000000\n",
    "printData = True\n",
    "maxIterations = 1000 \n",
    "\n",
    "for i in range(1,5):\n",
    "    temptheta = theta - alpha*N(fpx.subs(x,theta).subs(y,theta1)).evalf()\n",
    "    temptheta1 = theta1 - alpha*N(fpy.subs(y,theta1)).subs(x,theta).evalf()\n",
    "    iterations += 1 \n",
    "    fvalue = f(temptheta,temptheta1)\n",
    "\n",
    "    #If the value of theta changes less of a certain amount, our goal is met.\n",
    "    if abs(temptheta-theta) < precision and abs(temptheta1-theta1) < precision:\n",
    "        break\n",
    "\n",
    "    #Simultaneous update\n",
    "    theta = temptheta\n",
    "    theta1 = temptheta1\n",
    "    i += i  \n",
    "    print(\"The function \"+str(f)+\" converges to a minimum\")\n",
    "    print(\"Number of iterations:\",iterations,sep=\" \")\n",
    "    print(\"theta (x0) =\",temptheta,sep=\" \")\n",
    "    print(\"theta1 (y0) =\",temptheta1,sep=\" \")\n",
    "    print(\"value of f =\", fvalue)"
   ]
  },
  {
   "cell_type": "code",
   "execution_count": 15,
   "metadata": {},
   "outputs": [],
   "source": [
    "def f(x, y):\n",
    "    return  x**2 + y**2 + 4*x - 6*y -7"
   ]
  },
  {
   "cell_type": "code",
   "execution_count": 19,
   "metadata": {},
   "outputs": [
    {
     "data": {
      "text/plain": [
       "0.1823539200000006"
      ]
     },
     "execution_count": 19,
     "metadata": {},
     "output_type": "execute_result"
    }
   ],
   "source": [
    "abs(-19.96526592) - abs(-19.78291200)"
   ]
  },
  {
   "cell_type": "code",
   "execution_count": 24,
   "metadata": {},
   "outputs": [
    {
     "name": "stdout",
     "output_type": "stream",
     "text": [
      "The function <function f at 0x000002B8665AA1E0> converges to a minimum\n",
      "Number of iterations: 2\n",
      "theta (x0) = 1.43828000000000\n",
      "theta1 (y0) = 0.858005000000000\n",
      "value of f = 0.0984061412296875\n",
      "The function <function f at 0x000002B8665AA1E0> converges to a minimum\n",
      "Number of iterations: 3\n",
      "theta (x0) = 1.00927750000000\n",
      "theta1 (y0) = 0.675118125000000\n",
      "value of f = 0.0184378496717529\n",
      "The function <function f at 0x000002B8665AA1E0> converges to a minimum\n",
      "Number of iterations: 4\n",
      "theta (x0) = 1.10072093750000\n",
      "theta1 (y0) = 0.775315078125000\n",
      "value of f = 0.0106810390511120\n",
      "The function <function f at 0x000002B8665AA1E0> converges to a minimum\n",
      "Number of iterations: 5\n",
      "theta (x0) = 1.05062246093750\n",
      "theta1 (y0) = 0.792216455078125\n",
      "value of f = 0.00877064781447456\n"
     ]
    }
   ],
   "source": [
    "from sympy import *\n",
    "\n",
    "x = Symbol('x')\n",
    "y = Symbol('y')\n",
    "z = Symbol('z')\n",
    "\n",
    "f = (1/10)*((0.8822 - x)**2 + (1.2165 - (0.25)*y - x)**2 + (1.3171 -(0.50)*y - x)**2 + \n",
    "            (1.7930 - (0.75)*y - x)**2 + (1.9826 - y -x)**2)\n",
    "\n",
    "# First partial derivative with respect to x\n",
    "fpx = f.diff(x)\n",
    "\n",
    "# First partial derivative with respect to y\n",
    "fpy = f.diff(y)\n",
    "\n",
    "# Gradient\n",
    "grad = [fpx,fpy]\n",
    "\n",
    "def f(x, y):\n",
    "    return  (1/10)*((0.8822 - x)**2 + (1.2165 - (0.25)*y - x)**2 + (1.3171 -(0.50)*y - x)**2 + (1.7930 - (0.75)*y - x)**2 + (1.9826 - y -x)**2) \n",
    "\n",
    "# Data\n",
    "theta = 0  #x\n",
    "theta1 = 0 #y\n",
    "alpha = 1\n",
    "iterations = 1 \n",
    "check = 0\n",
    "precision = 1/1000000\n",
    "printData = True\n",
    "maxIterations = 1000 \n",
    "\n",
    "for i in range(1,5):\n",
    "    temptheta = theta - alpha*N(fpx.subs(x,theta).subs(y,theta1)).evalf()\n",
    "    temptheta1 = theta1 - alpha*N(fpy.subs(y,theta1)).subs(x,theta).evalf()\n",
    "    iterations += 1 \n",
    "    fvalue = f(temptheta,temptheta1)\n",
    "\n",
    "    #If the value of theta changes less of a certain amount, our goal is met.\n",
    "    if abs(temptheta-theta) < precision and abs(temptheta1-theta1) < precision:\n",
    "        break\n",
    "\n",
    "    #Simultaneous update\n",
    "    theta = temptheta\n",
    "    theta1 = temptheta1\n",
    "    i += i  \n",
    "    print(\"The function \"+str(f)+\" converges to a minimum\")\n",
    "    print(\"Number of iterations:\",iterations,sep=\" \")\n",
    "    print(\"theta (x0) =\",temptheta,sep=\" \")\n",
    "    print(\"theta1 (y0) =\",temptheta1,sep=\" \")\n",
    "    print(\"value of f =\", fvalue)"
   ]
  }
 ],
 "metadata": {
  "kernelspec": {
   "display_name": "Python 3",
   "language": "python",
   "name": "python3"
  },
  "language_info": {
   "codemirror_mode": {
    "name": "ipython",
    "version": 3
   },
   "file_extension": ".py",
   "mimetype": "text/x-python",
   "name": "python",
   "nbconvert_exporter": "python",
   "pygments_lexer": "ipython3",
   "version": "3.7.1"
  }
 },
 "nbformat": 4,
 "nbformat_minor": 2
}
